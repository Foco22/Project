{
  "nbformat": 4,
  "nbformat_minor": 0,
  "metadata": {
    "colab": {
      "name": "Untitled2.ipynb",
      "provenance": [],
      "toc_visible": true,
      "authorship_tag": "ABX9TyMMjIude5Dhj0X7KVtNl/6R",
      "include_colab_link": true
    },
    "kernelspec": {
      "name": "python3",
      "display_name": "Python 3"
    }
  },
  "cells": [
    {
      "cell_type": "markdown",
      "metadata": {
        "id": "view-in-github",
        "colab_type": "text"
      },
      "source": [
        "<a href=\"https://colab.research.google.com/github/Foco22/Project/blob/master/Clustering.ipynb\" target=\"_parent\"><img src=\"https://colab.research.google.com/assets/colab-badge.svg\" alt=\"Open In Colab\"/></a>"
      ]
    },
    {
      "cell_type": "markdown",
      "metadata": {
        "id": "aBCGFlkgBSy_"
      },
      "source": [
        "## Instalar PySpark y las librerias"
      ]
    },
    {
      "cell_type": "code",
      "metadata": {
        "id": "NE_XAI_SCAWe"
      },
      "source": [
        "!apt-get install openjdk-8-jdk-headless -qq > /dev/null\n",
        "!wget -q https://downloads.apache.org/spark/spark-3.0.1/spark-3.0.1-bin-hadoop2.7.tgz\n",
        "!tar xf spark-3.0.1-bin-hadoop2.7.tgz\n",
        "!pip install -q findspark"
      ],
      "execution_count": 8,
      "outputs": []
    },
    {
      "cell_type": "code",
      "metadata": {
        "id": "X_3tKnhjDKUK"
      },
      "source": [
        "import os\n",
        "os.environ[\"JAVA_HOME\"] = \"/usr/lib/jvm/java-8-openjdk-amd64\"\n",
        "os.environ[\"SPARK_HOME\"] = \"spark-3.0.1-bin-hadoop2.7\""
      ],
      "execution_count": 9,
      "outputs": []
    },
    {
      "cell_type": "code",
      "metadata": {
        "id": "E4t8HPbjBO6n"
      },
      "source": [
        "!pip -q install numpy matplotlib\n",
        "\n",
        "import findspark\n",
        "findspark.init()\n",
        "\n",
        "import os\n",
        "import numpy as np\n",
        "import matplotlib.pyplot as plt\n",
        "\n",
        "from pyspark.sql import Row\n",
        "from pyspark.sql import SparkSession\n",
        "\n",
        "spark = SparkSession.builder.appName(\"Bank\").getOrCreate()"
      ],
      "execution_count": 10,
      "outputs": []
    },
    {
      "cell_type": "code",
      "metadata": {
        "id": "kUBjDhH-NU8j"
      },
      "source": [
        "import seaborn as sns"
      ],
      "execution_count": 67,
      "outputs": []
    },
    {
      "cell_type": "markdown",
      "metadata": {
        "id": "V3gZP83pGaH1"
      },
      "source": [
        "## Carga de Datos (Segmentacion de Clientes)"
      ]
    },
    {
      "cell_type": "code",
      "metadata": {
        "colab": {
          "resources": {
            "http://localhost:8080/nbextensions/google.colab/files.js": {
              "data": "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",
              "ok": true,
              "headers": [
                [
                  "content-type",
                  "application/javascript"
                ]
              ],
              "status": 200,
              "status_text": ""
            }
          },
          "base_uri": "https://localhost:8080/",
          "height": 72
        },
        "id": "jV8dCn0cHAvc",
        "outputId": "7faa6954-55a7-42c7-b3ca-d1fd629a836a"
      },
      "source": [
        "from google.colab import files\n",
        "uploaded = files.upload()"
      ],
      "execution_count": 36,
      "outputs": [
        {
          "output_type": "display_data",
          "data": {
            "text/html": [
              "\n",
              "     <input type=\"file\" id=\"files-23888c10-77ff-43fd-bf00-4e63c9602102\" name=\"files[]\" multiple disabled\n",
              "        style=\"border:none\" />\n",
              "     <output id=\"result-23888c10-77ff-43fd-bf00-4e63c9602102\">\n",
              "      Upload widget is only available when the cell has been executed in the\n",
              "      current browser session. Please rerun this cell to enable.\n",
              "      </output>\n",
              "      <script src=\"/nbextensions/google.colab/files.js\"></script> "
            ],
            "text/plain": [
              "<IPython.core.display.HTML object>"
            ]
          },
          "metadata": {
            "tags": []
          }
        },
        {
          "output_type": "stream",
          "text": [
            "Saving Users1.csv to Users1 (1).csv\n"
          ],
          "name": "stdout"
        }
      ]
    },
    {
      "cell_type": "code",
      "metadata": {
        "id": "NeKCvOdgGfK7"
      },
      "source": [
        "clients = spark.read.csv('Users1 (1).csv', header=True, sep=';')"
      ],
      "execution_count": 187,
      "outputs": []
    },
    {
      "cell_type": "code",
      "metadata": {
        "colab": {
          "base_uri": "https://localhost:8080/"
        },
        "id": "iDiY27IWHW9K",
        "outputId": "a88009d2-25ae-4ad5-c246-ab45f21e538b"
      },
      "source": [
        "clients.show(10)"
      ],
      "execution_count": 55,
      "outputs": [
        {
          "output_type": "stream",
          "text": [
            "+-----+----------------+-------------+----------------------+---------------+------+----+--------------------+\n",
            "|State|      Profession|Profesion Key|Agree terms conditions|Card Mastercard|Source|Edad|         Region Pais|\n",
            "+-----+----------------+-------------+----------------------+---------------+------+----+--------------------+\n",
            "|    4|     Horticultor|            1|             VERDADERO|          FALSO|  null|  26|Libertador Genera...|\n",
            "|    4|      estudiante|            2|             VERDADERO|      VERDADERO|  null|  18|Regi�n Metropolit...|\n",
            "|    4|   SIN ACTIVIDAD|            3|             VERDADERO|          FALSO|  null|  30|Regi�n Metropolit...|\n",
            "|    4|      estudiante|            2|             VERDADERO|          FALSO|  null|  25|             Atacama|\n",
            "|    4|        empleado|            4|             VERDADERO|          FALSO|  null|  57|        La Araucan�a|\n",
            "|    4|        soldador|            5|             VERDADERO|          FALSO|  null|  29|Regi�n Metropolit...|\n",
            "|    4|empleado publico|            6|             VERDADERO|          FALSO|  null|  34|          Valpara�so|\n",
            "|    4|      almacenera|            7|             VERDADERO|          FALSO|  null|  60|Regi�n Metropolit...|\n",
            "|    4|        empleado|            4|             VERDADERO|          FALSO|  null|  30|            Tarapac�|\n",
            "|    4|  due?�a de casa|            8|             VERDADERO|          FALSO|  null|  32|             Atacama|\n",
            "+-----+----------------+-------------+----------------------+---------------+------+----+--------------------+\n",
            "only showing top 10 rows\n",
            "\n"
          ],
          "name": "stdout"
        }
      ]
    },
    {
      "cell_type": "markdown",
      "metadata": {
        "id": "Vgi2diFDG-0e"
      },
      "source": [
        "## Analisis Descriptivo por Variable\n"
      ]
    },
    {
      "cell_type": "code",
      "metadata": {
        "id": "f5SyuZByHu8S"
      },
      "source": [
        "from pyspark.sql.functions import isnan, when, count, col"
      ],
      "execution_count": 24,
      "outputs": []
    },
    {
      "cell_type": "code",
      "metadata": {
        "colab": {
          "base_uri": "https://localhost:8080/"
        },
        "id": "t1R90oyoJGci",
        "outputId": "56b09daa-2036-4790-886d-bcad431d281b"
      },
      "source": [
        "clients.count()"
      ],
      "execution_count": 44,
      "outputs": [
        {
          "output_type": "execute_result",
          "data": {
            "text/plain": [
              "28880"
            ]
          },
          "metadata": {
            "tags": []
          },
          "execution_count": 44
        }
      ]
    },
    {
      "cell_type": "code",
      "metadata": {
        "colab": {
          "base_uri": "https://localhost:8080/",
          "height": 297
        },
        "id": "V5BXaV1iIz6g",
        "outputId": "d294a017-0aee-4920-f946-b1c7533e4ae0"
      },
      "source": [
        "clients.select([count(when(col(c).isNull(), c)).alias(c) for c in \n",
        "           clients.columns]).toPandas().T"
      ],
      "execution_count": 188,
      "outputs": [
        {
          "output_type": "execute_result",
          "data": {
            "text/html": [
              "<div>\n",
              "<style scoped>\n",
              "    .dataframe tbody tr th:only-of-type {\n",
              "        vertical-align: middle;\n",
              "    }\n",
              "\n",
              "    .dataframe tbody tr th {\n",
              "        vertical-align: top;\n",
              "    }\n",
              "\n",
              "    .dataframe thead th {\n",
              "        text-align: right;\n",
              "    }\n",
              "</style>\n",
              "<table border=\"1\" class=\"dataframe\">\n",
              "  <thead>\n",
              "    <tr style=\"text-align: right;\">\n",
              "      <th></th>\n",
              "      <th>0</th>\n",
              "    </tr>\n",
              "  </thead>\n",
              "  <tbody>\n",
              "    <tr>\n",
              "      <th>State</th>\n",
              "      <td>0</td>\n",
              "    </tr>\n",
              "    <tr>\n",
              "      <th>Profession</th>\n",
              "      <td>0</td>\n",
              "    </tr>\n",
              "    <tr>\n",
              "      <th>Profesion Key</th>\n",
              "      <td>0</td>\n",
              "    </tr>\n",
              "    <tr>\n",
              "      <th>Agree terms conditions</th>\n",
              "      <td>0</td>\n",
              "    </tr>\n",
              "    <tr>\n",
              "      <th>Card Mastercard</th>\n",
              "      <td>0</td>\n",
              "    </tr>\n",
              "    <tr>\n",
              "      <th>Source</th>\n",
              "      <td>27042</td>\n",
              "    </tr>\n",
              "    <tr>\n",
              "      <th>Edad</th>\n",
              "      <td>0</td>\n",
              "    </tr>\n",
              "    <tr>\n",
              "      <th>Region Pais</th>\n",
              "      <td>0</td>\n",
              "    </tr>\n",
              "  </tbody>\n",
              "</table>\n",
              "</div>"
            ],
            "text/plain": [
              "                            0\n",
              "State                       0\n",
              "Profession                  0\n",
              "Profesion Key               0\n",
              "Agree terms conditions      0\n",
              "Card Mastercard             0\n",
              "Source                  27042\n",
              "Edad                        0\n",
              "Region Pais                 0"
            ]
          },
          "metadata": {
            "tags": []
          },
          "execution_count": 188
        }
      ]
    },
    {
      "cell_type": "markdown",
      "metadata": {
        "id": "sj5_6aT5JN8s"
      },
      "source": [
        "**La mayoria de los datos de Source son vacios, por lo que, eliminare del analisis esa columna, ya que la gran mayoria de los datos estqan perdidos.\n",
        "\n"
      ]
    },
    {
      "cell_type": "code",
      "metadata": {
        "colab": {
          "base_uri": "https://localhost:8080/"
        },
        "id": "dDQFrqxzJEWd",
        "outputId": "fbe1fe29-fe2d-4214-cbf4-e81c649bd1f3"
      },
      "source": [
        "clients.drop(\"Source\") \\\n",
        ".printSchema()"
      ],
      "execution_count": 57,
      "outputs": [
        {
          "output_type": "stream",
          "text": [
            "root\n",
            " |-- State: string (nullable = true)\n",
            " |-- Profession: string (nullable = true)\n",
            " |-- Profesion Key: string (nullable = true)\n",
            " |-- Agree terms conditions: string (nullable = true)\n",
            " |-- Card Mastercard: string (nullable = true)\n",
            " |-- Edad: string (nullable = true)\n",
            " |-- Region Pais: string (nullable = true)\n",
            "\n"
          ],
          "name": "stdout"
        }
      ]
    },
    {
      "cell_type": "code",
      "metadata": {
        "colab": {
          "base_uri": "https://localhost:8080/"
        },
        "id": "IlmvVFPMLpMg",
        "outputId": "56d272db-8955-466d-e8d6-f297a023949d"
      },
      "source": [
        "drop_list = ['Source']\n",
        "\n",
        "clients = clients.select([column for column in clients.columns if column not in drop_list])\n",
        "\n",
        "clients.show(10)"
      ],
      "execution_count": 189,
      "outputs": [
        {
          "output_type": "stream",
          "text": [
            "+-----+----------------+-------------+----------------------+---------------+----+--------------------+\n",
            "|State|      Profession|Profesion Key|Agree terms conditions|Card Mastercard|Edad|         Region Pais|\n",
            "+-----+----------------+-------------+----------------------+---------------+----+--------------------+\n",
            "|    4|     Horticultor|            1|             VERDADERO|          FALSO|  26|Libertador Genera...|\n",
            "|    4|      estudiante|            2|             VERDADERO|      VERDADERO|  18|Regi�n Metropolit...|\n",
            "|    4|   SIN ACTIVIDAD|            3|             VERDADERO|          FALSO|  30|Regi�n Metropolit...|\n",
            "|    4|      estudiante|            2|             VERDADERO|          FALSO|  25|             Atacama|\n",
            "|    4|        empleado|            4|             VERDADERO|          FALSO|  57|        La Araucan�a|\n",
            "|    4|        soldador|            5|             VERDADERO|          FALSO|  29|Regi�n Metropolit...|\n",
            "|    4|empleado publico|            6|             VERDADERO|          FALSO|  34|          Valpara�so|\n",
            "|    4|      almacenera|            7|             VERDADERO|          FALSO|  60|Regi�n Metropolit...|\n",
            "|    4|        empleado|            4|             VERDADERO|          FALSO|  30|            Tarapac�|\n",
            "|    4|  due?�a de casa|            8|             VERDADERO|          FALSO|  32|             Atacama|\n",
            "+-----+----------------+-------------+----------------------+---------------+----+--------------------+\n",
            "only showing top 10 rows\n",
            "\n"
          ],
          "name": "stdout"
        }
      ]
    },
    {
      "cell_type": "markdown",
      "metadata": {
        "id": "_5fUmcu4MkvE"
      },
      "source": [
        "**State**\n",
        "\n"
      ]
    },
    {
      "cell_type": "code",
      "metadata": {
        "colab": {
          "base_uri": "https://localhost:8080/",
          "height": 314
        },
        "id": "NczPXNRSMO7j",
        "outputId": "4f03bc9d-f859-4384-ccc8-0efc08b8a660"
      },
      "source": [
        "state = clients.groupBy('State').count().orderBy('count').toPandas()\n",
        "sns.barplot(data = state, x ='State', y ='count')\n",
        "plt.title('Tipo de State de los datos', fontsize = 16)\n",
        "sns.despine(left=True, bottom=True)\n",
        "plt.xlabel('Tipo de State')\n",
        "plt.ylabel('Cantidad')"
      ],
      "execution_count": 70,
      "outputs": [
        {
          "output_type": "execute_result",
          "data": {
            "text/plain": [
              "Text(0, 0.5, 'Cantidad')"
            ]
          },
          "metadata": {
            "tags": []
          },
          "execution_count": 70
        },
        {
          "output_type": "display_data",
          "data": {
            "image/png": "[encoded data removed]",
            "text/plain": [
              "<Figure size 432x288 with 1 Axes>"
            ]
          },
          "metadata": {
            "tags": [],
            "needs_background": "light"
          }
        }
      ]
    },
    {
      "cell_type": "code",
      "metadata": {
        "colab": {
          "base_uri": "https://localhost:8080/"
        },
        "id": "GjnBDu1DN255",
        "outputId": "65866d2b-76dd-4b82-c45d-2a2bac12eb56"
      },
      "source": [
        "drop_list = ['State']\n",
        "\n",
        "clients = clients.select([column for column in clients.columns if column not in drop_list])\n",
        "\n",
        "clients.show(10)"
      ],
      "execution_count": 190,
      "outputs": [
        {
          "output_type": "stream",
          "text": [
            "+----------------+-------------+----------------------+---------------+----+--------------------+\n",
            "|      Profession|Profesion Key|Agree terms conditions|Card Mastercard|Edad|         Region Pais|\n",
            "+----------------+-------------+----------------------+---------------+----+--------------------+\n",
            "|     Horticultor|            1|             VERDADERO|          FALSO|  26|Libertador Genera...|\n",
            "|      estudiante|            2|             VERDADERO|      VERDADERO|  18|Regi�n Metropolit...|\n",
            "|   SIN ACTIVIDAD|            3|             VERDADERO|          FALSO|  30|Regi�n Metropolit...|\n",
            "|      estudiante|            2|             VERDADERO|          FALSO|  25|             Atacama|\n",
            "|        empleado|            4|             VERDADERO|          FALSO|  57|        La Araucan�a|\n",
            "|        soldador|            5|             VERDADERO|          FALSO|  29|Regi�n Metropolit...|\n",
            "|empleado publico|            6|             VERDADERO|          FALSO|  34|          Valpara�so|\n",
            "|      almacenera|            7|             VERDADERO|          FALSO|  60|Regi�n Metropolit...|\n",
            "|        empleado|            4|             VERDADERO|          FALSO|  30|            Tarapac�|\n",
            "|  due?�a de casa|            8|             VERDADERO|          FALSO|  32|             Atacama|\n",
            "+----------------+-------------+----------------------+---------------+----+--------------------+\n",
            "only showing top 10 rows\n",
            "\n"
          ],
          "name": "stdout"
        }
      ]
    },
    {
      "cell_type": "markdown",
      "metadata": {
        "id": "D7AMbAF9N_D7"
      },
      "source": [
        "**Profession/Profesion Key**\n"
      ]
    },
    {
      "cell_type": "code",
      "metadata": {
        "colab": {
          "base_uri": "https://localhost:8080/"
        },
        "id": "_3ee-BLQOCmG",
        "outputId": "e5bf16a3-8fbd-4811-beae-693b7497beb6"
      },
      "source": [
        "from pyspark.sql.functions import lower\n",
        "\n",
        "clients = clients.withColumn('Profession_lower', lower(col('Profession')))\n",
        "clients.show(10)"
      ],
      "execution_count": 191,
      "outputs": [
        {
          "output_type": "stream",
          "text": [
            "+----------------+-------------+----------------------+---------------+----+--------------------+----------------+\n",
            "|      Profession|Profesion Key|Agree terms conditions|Card Mastercard|Edad|         Region Pais|Profession_lower|\n",
            "+----------------+-------------+----------------------+---------------+----+--------------------+----------------+\n",
            "|     Horticultor|            1|             VERDADERO|          FALSO|  26|Libertador Genera...|     horticultor|\n",
            "|      estudiante|            2|             VERDADERO|      VERDADERO|  18|Regi�n Metropolit...|      estudiante|\n",
            "|   SIN ACTIVIDAD|            3|             VERDADERO|          FALSO|  30|Regi�n Metropolit...|   sin actividad|\n",
            "|      estudiante|            2|             VERDADERO|          FALSO|  25|             Atacama|      estudiante|\n",
            "|        empleado|            4|             VERDADERO|          FALSO|  57|        La Araucan�a|        empleado|\n",
            "|        soldador|            5|             VERDADERO|          FALSO|  29|Regi�n Metropolit...|        soldador|\n",
            "|empleado publico|            6|             VERDADERO|          FALSO|  34|          Valpara�so|empleado publico|\n",
            "|      almacenera|            7|             VERDADERO|          FALSO|  60|Regi�n Metropolit...|      almacenera|\n",
            "|        empleado|            4|             VERDADERO|          FALSO|  30|            Tarapac�|        empleado|\n",
            "|  due?�a de casa|            8|             VERDADERO|          FALSO|  32|             Atacama|  due?�a de casa|\n",
            "+----------------+-------------+----------------------+---------------+----+--------------------+----------------+\n",
            "only showing top 10 rows\n",
            "\n"
          ],
          "name": "stdout"
        }
      ]
    },
    {
      "cell_type": "code",
      "metadata": {
        "colab": {
          "base_uri": "https://localhost:8080/",
          "height": 673
        },
        "id": "3Q3yGXwvPCcv",
        "outputId": "19be2128-345e-4953-f5e9-d9a0ce056a41"
      },
      "source": [
        "profesional = clients.groupBy('Profession_lower').count().orderBy('count', ascending = False)\n",
        "profesional = profesional.toPandas().head(30)\n",
        "plt.figure(figsize = (10,10))\n",
        "sns.barplot(data = profesional, y ='Profession_lower', x ='count', color = 'b')\n",
        "plt.title('Top 10 Principales Trabajos de las personas', fontsize = 16)\n",
        "sns.despine(left=True, bottom=True)\n",
        "plt.xlabel('Tipo de State')\n",
        "plt.ylabel('Cantidad')\n",
        "plt.xticks(rotation=90)"
      ],
      "execution_count": 92,
      "outputs": [
        {
          "output_type": "execute_result",
          "data": {
            "text/plain": [
              "(array([   0., 1000., 2000., 3000., 4000., 5000., 6000., 7000.]),\n",
              " <a list of 8 Text major ticklabel objects>)"
            ]
          },
          "metadata": {
            "tags": []
          },
          "execution_count": 92
        },
        {
          "output_type": "display_data",
          "data": {
            "image/png": "[encoded data removed]",
            "text/plain": [
              "<Figure size 720x720 with 1 Axes>"
            ]
          },
          "metadata": {
            "tags": [],
            "needs_background": "light"
          }
        }
      ]
    },
    {
      "cell_type": "markdown",
      "metadata": {
        "id": "J9g1ZfDQRNNT"
      },
      "source": [
        "Ahora, vamos a ser un analisis de los estudiante, posiblemente hay muchos registros que son estudiantes, pero que no fueron escritos correctamente. Veremos como podemos obtener estos registros\n"
      ]
    },
    {
      "cell_type": "code",
      "metadata": {
        "id": "K6leLJtqRb5b"
      },
      "source": [
        "#Grupo 1: Estudiantes\n",
        "estudiantes = clients.toPandas()\n",
        "estudiantes = np.unique(list(estudiantes[estudiantes['Profession_lower'].str.match('^estu.*')== True]['Profession_lower']))\n",
        "\n",
        "#Grupo 2: Asesora del Hogar\n",
        "\n",
        "dueña_casa = ['due?�a de casa' ,'ama de casa', 'due?�a casa', 'casa','nana de la casa', 'nana','nano','ama dd casa',\n",
        "             'duena se casa','duesa de casa','due?�o de ogar', 'due?�a de caaa','due?�a de cass','due?�o de casa',\n",
        "             'ama de casa y trabajadora', 'due?�a de casa cuidando a mi beb?�', 'hogar', 'casa']\n",
        "\n",
        "#Grupo 3: Desempleo\n",
        "\n",
        "desempleo  = ['sin actividad', 'sin empleo', 'sin enpleo','sin ocupaci??n',\n",
        "       'sin ocupacion', 'sin ocupaciones', 'sin oficio', 'sin ofu',\n",
        "       'sin profecion', 'sin profesion', 'sin trabaj??', 'sin trabajo',\n",
        "       'sin trabajo actualmente', 'sin trabajo ayuden', 'sin vocacion',\n",
        "       'desempl', 'desempleada', 'desempleado', 'desempleo',\n",
        "       'desenpkeado', 'desenpleada', 'desenpleado','cesante']\n",
        "\n",
        "#Grupo 4: informacion erronea.\n",
        "\n",
        "sin_informacion = ['sin informaci??n','nada', 'nada','nada de momento', 'nada por el momento', 'nadaa'\n",
        "                  'no aplica', 'mm piping', '?±i?±os', 'dkdjjffn', 'uy curiosos', 'nnnnnnnnnnnnn' , 'trabajo']"
      ],
      "execution_count": 193,
      "outputs": []
    },
    {
      "cell_type": "code",
      "metadata": {
        "id": "6jtFt4V5TFBA"
      },
      "source": [
        "def profesional(x):\n",
        "   if x in estudiantes:\n",
        "     return 'Estudiantes'\n",
        "   elif x in dueña_casa:\n",
        "      return 'Dueña de Casa'\n",
        "   elif x in desempleo:\n",
        "      return 'Desempleo'\n",
        "   elif x in sin_informacion:\n",
        "      return 'Sin_informacion'\n",
        "   else:\n",
        "      return 'Trabajando'"
      ],
      "execution_count": 194,
      "outputs": []
    },
    {
      "cell_type": "code",
      "metadata": {
        "colab": {
          "base_uri": "https://localhost:8080/"
        },
        "id": "KUPQirS-UjDV",
        "outputId": "d4a3f8f5-2fd3-4a24-eaba-a77f3b69a566"
      },
      "source": [
        "clients.rdd.map(lambda row: profesional(row['Profession_lower']))\n",
        "\n",
        "from pyspark.sql.functions import udf\n",
        "from pyspark.sql.types import *\n",
        "udfValueToCategory = udf(profesional, StringType())\n",
        "clients = clients.withColumn(\"Categoria\", udfValueToCategory(\"Profession_lower\"))\n",
        "clients.show()\n"
      ],
      "execution_count": 195,
      "outputs": [
        {
          "output_type": "stream",
          "text": [
            "+--------------------+-------------+----------------------+---------------+----+--------------------+--------------------+-------------+\n",
            "|          Profession|Profesion Key|Agree terms conditions|Card Mastercard|Edad|         Region Pais|    Profession_lower|    Categoria|\n",
            "+--------------------+-------------+----------------------+---------------+----+--------------------+--------------------+-------------+\n",
            "|         Horticultor|            1|             VERDADERO|          FALSO|  26|Libertador Genera...|         horticultor|   Trabajando|\n",
            "|          estudiante|            2|             VERDADERO|      VERDADERO|  18|Regi�n Metropolit...|          estudiante|  Estudiantes|\n",
            "|       SIN ACTIVIDAD|            3|             VERDADERO|          FALSO|  30|Regi�n Metropolit...|       sin actividad|    Desempleo|\n",
            "|          estudiante|            2|             VERDADERO|          FALSO|  25|             Atacama|          estudiante|  Estudiantes|\n",
            "|            empleado|            4|             VERDADERO|          FALSO|  57|        La Araucan�a|            empleado|   Trabajando|\n",
            "|            soldador|            5|             VERDADERO|          FALSO|  29|Regi�n Metropolit...|            soldador|   Trabajando|\n",
            "|    empleado publico|            6|             VERDADERO|          FALSO|  34|          Valpara�so|    empleado publico|   Trabajando|\n",
            "|          almacenera|            7|             VERDADERO|          FALSO|  60|Regi�n Metropolit...|          almacenera|   Trabajando|\n",
            "|            empleado|            4|             VERDADERO|          FALSO|  30|            Tarapac�|            empleado|   Trabajando|\n",
            "|      due?�a de casa|            8|             VERDADERO|          FALSO|  32|             Atacama|      due?�a de casa|Dueña de Casa|\n",
            "|            cocinera|            9|             VERDADERO|          FALSO|  25|Libertador Genera...|            cocinera|   Trabajando|\n",
            "|          mi familia|           10|             VERDADERO|          FALSO|  25|Regi�n Metropolit...|          mi familia|   Trabajando|\n",
            "|          estudiante|            2|             VERDADERO|      VERDADERO|  19|               Maule|          estudiante|  Estudiantes|\n",
            "|          estudiante|            2|             VERDADERO|      VERDADERO|  25|Regi�n Metropolit...|          estudiante|  Estudiantes|\n",
            "|Ingeniero de soft...|           11|             VERDADERO|          FALSO|  36|Regi�n Metropolit...|ingeniero de soft...|   Trabajando|\n",
            "|          estudiante|            2|             VERDADERO|          FALSO|  22|Regi�n Metropolit...|          estudiante|  Estudiantes|\n",
            "|             Tecnico|           12|             VERDADERO|      VERDADERO|  34|             B�o-B�o|             tecnico|   Trabajando|\n",
            "|            personal|           13|             VERDADERO|          FALSO|  19|             Atacama|            personal|   Trabajando|\n",
            "|          Estudiante|            2|             VERDADERO|          FALSO|  24|          Valpara�so|          estudiante|  Estudiantes|\n",
            "|             garzona|           14|             VERDADERO|          FALSO|  38|         Antofagasta|             garzona|   Trabajando|\n",
            "+--------------------+-------------+----------------------+---------------+----+--------------------+--------------------+-------------+\n",
            "only showing top 20 rows\n",
            "\n"
          ],
          "name": "stdout"
        }
      ]
    },
    {
      "cell_type": "code",
      "metadata": {
        "colab": {
          "base_uri": "https://localhost:8080/",
          "height": 493
        },
        "id": "HCccpdiFbgUh",
        "outputId": "c6d5981e-ceb5-4f45-d347-81a69d7bcafe"
      },
      "source": [
        "profesional = clients.groupBy('Categoria').count().orderBy('count', ascending = False)\n",
        "profesional = profesional.toPandas().head(30)\n",
        "plt.figure(figsize = (6,6))\n",
        "sns.barplot(data = profesional, x ='Categoria', y ='count', color = 'b')\n",
        "plt.title('Categoria de Trabajos de la base', fontsize = 16)\n",
        "sns.despine(left=True, bottom=True)\n",
        "plt.xlabel('Categoria de Empleos')\n",
        "plt.ylabel('Cantidad')\n",
        "plt.xticks(rotation=90)"
      ],
      "execution_count": 141,
      "outputs": [
        {
          "output_type": "execute_result",
          "data": {
            "text/plain": [
              "(array([0, 1, 2, 3, 4]), <a list of 5 Text major ticklabel objects>)"
            ]
          },
          "metadata": {
            "tags": []
          },
          "execution_count": 141
        },
        {
          "output_type": "display_data",
          "data": {
            "image/png": "[encoded data removed]",
            "text/plain": [
              "<Figure size 432x432 with 1 Axes>"
            ]
          },
          "metadata": {
            "tags": [],
            "needs_background": "light"
          }
        }
      ]
    },
    {
      "cell_type": "code",
      "metadata": {
        "id": "J_CS39EJbx3-"
      },
      "source": [
        "drop_list = ['Profession','Profesion Key', 'Profession_lower']\n",
        "\n",
        "clients = clients.select([column for column in clients.columns if column not in drop_list])\n"
      ],
      "execution_count": 196,
      "outputs": []
    },
    {
      "cell_type": "code",
      "metadata": {
        "colab": {
          "base_uri": "https://localhost:8080/",
          "height": 489
        },
        "id": "cdkYwwcYcMJ4",
        "outputId": "df2aff99-dff3-4027-882d-f41548ecca4e"
      },
      "source": [
        "clients = clients.filter(\"Categoria != 'Sin_informacion' \")\n",
        "\n",
        "profesional = clients.groupBy('Categoria').count().orderBy('count', ascending = False)\n",
        "profesional = profesional.toPandas().head(30)\n",
        "plt.figure(figsize = (6,6))\n",
        "sns.barplot(data = profesional, x ='Categoria', y ='count', color = 'b')\n",
        "plt.title('Categoria de Trabajos de la base', fontsize = 16)\n",
        "sns.despine(left=True, bottom=True)\n",
        "plt.xlabel('Categoria de Empleos')\n",
        "plt.ylabel('Cantidad')\n",
        "plt.xticks(rotation=90)"
      ],
      "execution_count": 197,
      "outputs": [
        {
          "output_type": "execute_result",
          "data": {
            "text/plain": [
              "(array([0, 1, 2, 3]), <a list of 4 Text major ticklabel objects>)"
            ]
          },
          "metadata": {
            "tags": []
          },
          "execution_count": 197
        },
        {
          "output_type": "display_data",
          "data": {
            "image/png": "[encoded data removed]",
            "text/plain": [
              "<Figure size 432x432 with 1 Axes>"
            ]
          },
          "metadata": {
            "tags": [],
            "needs_background": "light"
          }
        }
      ]
    },
    {
      "cell_type": "markdown",
      "metadata": {
        "id": "9VBbpUL2eHfE"
      },
      "source": [
        "**Agree Terms Conditions**\n"
      ]
    },
    {
      "cell_type": "code",
      "metadata": {
        "colab": {
          "base_uri": "https://localhost:8080/",
          "height": 462
        },
        "id": "71rkdrEAeLT1",
        "outputId": "b15c1bfb-79a1-4c23-ea9e-40bba68afef9"
      },
      "source": [
        "profesional = clients.groupBy('Agree terms conditions').count().orderBy('count', ascending = False)\n",
        "profesional = profesional.toPandas().head(30)\n",
        "plt.figure(figsize = (6,6))\n",
        "sns.barplot(data = profesional, y ='Agree terms conditions', x ='count', color = 'b')\n",
        "plt.title('Condiciones Acordadas por de cliente', fontsize = 16)\n",
        "sns.despine(left=True, bottom=True)\n",
        "plt.xlabel('Tipo')\n",
        "plt.ylabel('Cantidad')\n",
        "plt.xticks(rotation=90)"
      ],
      "execution_count": 154,
      "outputs": [
        {
          "output_type": "execute_result",
          "data": {
            "text/plain": [
              "(array([    0.,  5000., 10000., 15000., 20000., 25000., 30000.]),\n",
              " <a list of 7 Text major ticklabel objects>)"
            ]
          },
          "metadata": {
            "tags": []
          },
          "execution_count": 154
        },
        {
          "output_type": "display_data",
          "data": {
            "image/png": "[encoded data removed]",
            "text/plain": [
              "<Figure size 432x432 with 1 Axes>"
            ]
          },
          "metadata": {
            "tags": [],
            "needs_background": "light"
          }
        }
      ]
    },
    {
      "cell_type": "code",
      "metadata": {
        "colab": {
          "base_uri": "https://localhost:8080/"
        },
        "id": "39YBeEtCd71T",
        "outputId": "47b57ca2-0270-4be7-8923-34353e6daf38"
      },
      "source": [
        "clients = clients.filter(\"'Agree terms conditions' != 'FALSO' \")\n",
        "clients.show(10)"
      ],
      "execution_count": 198,
      "outputs": [
        {
          "output_type": "stream",
          "text": [
            "+----------------------+---------------+----+--------------------+-------------+\n",
            "|Agree terms conditions|Card Mastercard|Edad|         Region Pais|    Categoria|\n",
            "+----------------------+---------------+----+--------------------+-------------+\n",
            "|             VERDADERO|          FALSO|  26|Libertador Genera...|   Trabajando|\n",
            "|             VERDADERO|      VERDADERO|  18|Regi�n Metropolit...|  Estudiantes|\n",
            "|             VERDADERO|          FALSO|  30|Regi�n Metropolit...|    Desempleo|\n",
            "|             VERDADERO|          FALSO|  25|             Atacama|  Estudiantes|\n",
            "|             VERDADERO|          FALSO|  57|        La Araucan�a|   Trabajando|\n",
            "|             VERDADERO|          FALSO|  29|Regi�n Metropolit...|   Trabajando|\n",
            "|             VERDADERO|          FALSO|  34|          Valpara�so|   Trabajando|\n",
            "|             VERDADERO|          FALSO|  60|Regi�n Metropolit...|   Trabajando|\n",
            "|             VERDADERO|          FALSO|  30|            Tarapac�|   Trabajando|\n",
            "|             VERDADERO|          FALSO|  32|             Atacama|Dueña de Casa|\n",
            "+----------------------+---------------+----+--------------------+-------------+\n",
            "only showing top 10 rows\n",
            "\n"
          ],
          "name": "stdout"
        }
      ]
    },
    {
      "cell_type": "markdown",
      "metadata": {
        "id": "iISRsOeffcD9"
      },
      "source": [
        "**Card Mastercard**\n"
      ]
    },
    {
      "cell_type": "code",
      "metadata": {
        "colab": {
          "base_uri": "https://localhost:8080/",
          "height": 367
        },
        "id": "SiscuSNmffjH",
        "outputId": "101ff003-9968-4636-f1bb-0b209331bb44"
      },
      "source": [
        "profesional = clients.groupBy('Card Mastercard').count().orderBy('count', ascending = False)\n",
        "profesional = profesional.toPandas().head(30)\n",
        "plt.figure(figsize = (6,4))\n",
        "sns.barplot(data = profesional, x ='Card Mastercard', y ='count', color = 'b')\n",
        "plt.title('Condiciones Acordadas por de cliente', fontsize = 16)\n",
        "sns.despine(left=True, bottom=True)\n",
        "plt.xlabel('Tipo')\n",
        "plt.ylabel('Cantidad')\n",
        "plt.xticks(rotation=90)"
      ],
      "execution_count": 164,
      "outputs": [
        {
          "output_type": "execute_result",
          "data": {
            "text/plain": [
              "(array([0, 1]), <a list of 2 Text major ticklabel objects>)"
            ]
          },
          "metadata": {
            "tags": []
          },
          "execution_count": 164
        },
        {
          "output_type": "display_data",
          "data": {
            "image/png": "[encoded data removed]",
            "text/plain": [
              "<Figure size 432x288 with 1 Axes>"
            ]
          },
          "metadata": {
            "tags": [],
            "needs_background": "light"
          }
        }
      ]
    },
    {
      "cell_type": "markdown",
      "metadata": {
        "id": "88QA5dRlf0T9"
      },
      "source": [
        "**Edad**\n"
      ]
    },
    {
      "cell_type": "code",
      "metadata": {
        "colab": {
          "base_uri": "https://localhost:8080/",
          "height": 351
        },
        "id": "KjOBYSvAf2L7",
        "outputId": "72d29e18-1c0b-4a17-fb2d-04c6b8f9cf5f"
      },
      "source": [
        "edad = clients.toPandas()\n",
        "edad['Edad'] = edad['Edad'].apply(lambda x: int(x))\n",
        "sns.distplot(edad['Edad'], kde = False)\n",
        "plt.title('Distribucion de las Edad de los datos', fontsize = 16)\n",
        "sns.despine(left=True, bottom=True)"
      ],
      "execution_count": 199,
      "outputs": [
        {
          "output_type": "stream",
          "text": [
            "/usr/local/lib/python3.6/dist-packages/seaborn/distributions.py:2551: FutureWarning: `distplot` is a deprecated function and will be removed in a future version. Please adapt your code to use either `displot` (a figure-level function with similar flexibility) or `histplot` (an axes-level function for histograms).\n",
            "  warnings.warn(msg, FutureWarning)\n"
          ],
          "name": "stderr"
        },
        {
          "output_type": "display_data",
          "data": {
            "image/png": "[encoded data removed]",
            "text/plain": [
              "<Figure size 432x288 with 1 Axes>"
            ]
          },
          "metadata": {
            "tags": [],
            "needs_background": "light"
          }
        }
      ]
    },
    {
      "cell_type": "code",
      "metadata": {
        "colab": {
          "base_uri": "https://localhost:8080/",
          "height": 266
        },
        "id": "vmE08qz3gPKN",
        "outputId": "6873b7a8-58f5-4848-c779-07c634e4eea6"
      },
      "source": [
        "sns.boxplot(data = edad, y ='Edad' )\n",
        "plt.title('Distribucion de las Edad de los datos', fontsize = 16)\n",
        "sns.despine(left=True, bottom=True)"
      ],
      "execution_count": 175,
      "outputs": [
        {
          "output_type": "display_data",
          "data": {
            "image/png": "[encoded data removed]",
            "text/plain": [
              "<Figure size 432x288 with 1 Axes>"
            ]
          },
          "metadata": {
            "tags": [],
            "needs_background": "light"
          }
        }
      ]
    },
    {
      "cell_type": "code",
      "metadata": {
        "colab": {
          "base_uri": "https://localhost:8080/"
        },
        "id": "EEZpGGF8gi2y",
        "outputId": "dff6cf7d-add1-44cb-d0a9-1458a84818c2"
      },
      "source": [
        "edad['Edad'].max()"
      ],
      "execution_count": 180,
      "outputs": [
        {
          "output_type": "execute_result",
          "data": {
            "text/plain": [
              "120"
            ]
          },
          "metadata": {
            "tags": []
          },
          "execution_count": 180
        }
      ]
    },
    {
      "cell_type": "markdown",
      "metadata": {
        "id": "ZJiFAGbrhaRm"
      },
      "source": [
        "Filtrar los datos, para sacar el dato que tiene 120 años, ya que puede afectar a los analisis posteriores.\n"
      ]
    },
    {
      "cell_type": "code",
      "metadata": {
        "colab": {
          "base_uri": "https://localhost:8080/",
          "height": 351
        },
        "id": "DavflzyzhfHd",
        "outputId": "7855cec4-1162-4db9-ee62-4ee335f6a853"
      },
      "source": [
        "clients = clients.filter(\" Edad != '120' \")\n",
        "edad = clients.toPandas()\n",
        "edad['Edad'] = edad['Edad'].apply(lambda x: int(x))\n",
        "sns.distplot(edad['Edad'], kde = False)\n",
        "plt.title('Distribucion de las Edad de los datos', fontsize = 16)\n",
        "sns.despine(left=True, bottom=True)"
      ],
      "execution_count": 200,
      "outputs": [
        {
          "output_type": "stream",
          "text": [
            "/usr/local/lib/python3.6/dist-packages/seaborn/distributions.py:2551: FutureWarning: `distplot` is a deprecated function and will be removed in a future version. Please adapt your code to use either `displot` (a figure-level function with similar flexibility) or `histplot` (an axes-level function for histograms).\n",
            "  warnings.warn(msg, FutureWarning)\n"
          ],
          "name": "stderr"
        },
        {
          "output_type": "display_data",
          "data": {
            "image/png": "[encoded data removed]",
            "text/plain": [
              "<Figure size 432x288 with 1 Axes>"
            ]
          },
          "metadata": {
            "tags": [],
            "needs_background": "light"
          }
        }
      ]
    },
    {
      "cell_type": "code",
      "metadata": {
        "id": "KKqsonWIidu_"
      },
      "source": [
        ""
      ],
      "execution_count": null,
      "outputs": []
    }
  ]
}